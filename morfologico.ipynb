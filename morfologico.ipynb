{
 "cells": [
  {
   "cell_type": "markdown",
   "metadata": {},
   "source": [
    "# Aplicación de algoritmo RollingBall\n",
    "\n",
    "En este script se pretende replicar la experiencia con el algoritmo rollingball del paquete [baseline] de R."
   ]
  },
  {
   "cell_type": "markdown",
   "metadata": {},
   "source": [
    "Inicialmente se deben tener instalados los paquetes necesarios para el procesamiento de las imágenes.\n",
    "\n",
    "Este paso puede **omitirse** si ya se encuentra instalado."
   ]
  },
  {
   "cell_type": "code",
   "execution_count": 2,
   "metadata": {},
   "outputs": [
    {
     "name": "stderr",
     "output_type": "stream",
     "text": [
      "Installing package into 'C:/Users/christian/Documents/R/win-library/3.6'\n",
      "(as 'lib' is unspecified)\n",
      "also installing the dependency 'scales'\n",
      "\n"
     ]
    },
    {
     "name": "stdout",
     "output_type": "stream",
     "text": [
      "package 'scales' successfully unpacked and MD5 sums checked\n",
      "package 'ggplot2' successfully unpacked and MD5 sums checked\n",
      "\n",
      "The downloaded binary packages are in\n",
      "\tC:\\Users\\christian\\AppData\\Local\\Temp\\RtmpaY1B5e\\downloaded_packages\n"
     ]
    },
    {
     "name": "stderr",
     "output_type": "stream",
     "text": [
      "Installing package into 'C:/Users/christian/Documents/R/win-library/3.6'\n",
      "(as 'lib' is unspecified)\n"
     ]
    },
    {
     "name": "stdout",
     "output_type": "stream",
     "text": [
      "package 'imager' successfully unpacked and MD5 sums checked\n"
     ]
    },
    {
     "name": "stderr",
     "output_type": "stream",
     "text": [
      "Warning message:\n",
      "\"cannot remove prior installation of package 'imager'\"Warning message in file.copy(savedcopy, lib, recursive = TRUE):\n",
      "\"problema al copiar C:\\Users\\christian\\Documents\\R\\win-library\\3.6\\00LOCK\\imager\\libs\\x64\\imager.dll  a C:\\Users\\christian\\Documents\\R\\win-library\\3.6\\imager\\libs\\x64\\imager.dll: Permission denied\"Warning message:\n",
      "\"restored 'imager'\""
     ]
    },
    {
     "name": "stdout",
     "output_type": "stream",
     "text": [
      "\n",
      "The downloaded binary packages are in\n",
      "\tC:\\Users\\christian\\AppData\\Local\\Temp\\RtmpaY1B5e\\downloaded_packages\n"
     ]
    },
    {
     "name": "stderr",
     "output_type": "stream",
     "text": [
      "Installing package into 'C:/Users/christian/Documents/R/win-library/3.6'\n",
      "(as 'lib' is unspecified)\n",
      "also installing the dependency 'survival'\n",
      "\n"
     ]
    },
    {
     "name": "stdout",
     "output_type": "stream",
     "text": [
      "package 'survival' successfully unpacked and MD5 sums checked\n",
      "package 'mixtools' successfully unpacked and MD5 sums checked\n"
     ]
    },
    {
     "name": "stderr",
     "output_type": "stream",
     "text": [
      "Warning message:\n",
      "\"cannot remove prior installation of package 'mixtools'\"Warning message in file.copy(savedcopy, lib, recursive = TRUE):\n",
      "\"problema al copiar C:\\Users\\christian\\Documents\\R\\win-library\\3.6\\00LOCK\\mixtools\\libs\\x64\\mixtools.dll  a C:\\Users\\christian\\Documents\\R\\win-library\\3.6\\mixtools\\libs\\x64\\mixtools.dll: Permission denied\"Warning message:\n",
      "\"restored 'mixtools'\""
     ]
    },
    {
     "name": "stdout",
     "output_type": "stream",
     "text": [
      "\n",
      "The downloaded binary packages are in\n",
      "\tC:\\Users\\christian\\AppData\\Local\\Temp\\RtmpaY1B5e\\downloaded_packages\n"
     ]
    },
    {
     "name": "stderr",
     "output_type": "stream",
     "text": [
      "Installing package into 'C:/Users/christian/Documents/R/win-library/3.6'\n",
      "(as 'lib' is unspecified)\n"
     ]
    },
    {
     "name": "stdout",
     "output_type": "stream",
     "text": [
      "package 'baseline' successfully unpacked and MD5 sums checked\n",
      "\n",
      "The downloaded binary packages are in\n",
      "\tC:\\Users\\christian\\AppData\\Local\\Temp\\RtmpaY1B5e\\downloaded_packages\n"
     ]
    },
    {
     "name": "stderr",
     "output_type": "stream",
     "text": [
      "Installing package into 'C:/Users/christian/Documents/R/win-library/3.6'\n",
      "(as 'lib' is unspecified)\n"
     ]
    },
    {
     "name": "stdout",
     "output_type": "stream",
     "text": [
      "package 'Matrix' successfully unpacked and MD5 sums checked\n"
     ]
    },
    {
     "name": "stderr",
     "output_type": "stream",
     "text": [
      "Warning message:\n",
      "\"cannot remove prior installation of package 'Matrix'\"Warning message in file.copy(savedcopy, lib, recursive = TRUE):\n",
      "\"problema al copiar C:\\Users\\christian\\Documents\\R\\win-library\\3.6\\00LOCK\\Matrix\\libs\\x64\\Matrix.dll  a C:\\Users\\christian\\Documents\\R\\win-library\\3.6\\Matrix\\libs\\x64\\Matrix.dll: Permission denied\"Warning message:\n",
      "\"restored 'Matrix'\""
     ]
    },
    {
     "name": "stdout",
     "output_type": "stream",
     "text": [
      "\n",
      "The downloaded binary packages are in\n",
      "\tC:\\Users\\christian\\AppData\\Local\\Temp\\RtmpaY1B5e\\downloaded_packages\n"
     ]
    }
   ],
   "source": [
    "install.packages(\"ggplot2\")\n",
    "install.packages(\"imager\")\n",
    "install.packages(\"mixtools\")\n",
    "install.packages(\"baseline\")\n",
    "install.packages(\"Matrix\")"
   ]
  },
  {
   "cell_type": "code",
   "execution_count": 3,
   "metadata": {},
   "outputs": [
    {
     "name": "stderr",
     "output_type": "stream",
     "text": [
      "Installing package into 'C:/Users/christian/Documents/R/win-library/3.6'\n",
      "(as 'lib' is unspecified)\n",
      "also installing the dependency 'sp'\n",
      "\n"
     ]
    },
    {
     "name": "stdout",
     "output_type": "stream",
     "text": [
      "package 'sp' successfully unpacked and MD5 sums checked\n",
      "package 'rgdal' successfully unpacked and MD5 sums checked\n",
      "\n",
      "The downloaded binary packages are in\n",
      "\tC:\\Users\\christian\\AppData\\Local\\Temp\\RtmpaY1B5e\\downloaded_packages\n"
     ]
    },
    {
     "name": "stderr",
     "output_type": "stream",
     "text": [
      "Installing package into 'C:/Users/christian/Documents/R/win-library/3.6'\n",
      "(as 'lib' is unspecified)\n",
      "also installing the dependencies 'tidyr', 'data.table'\n",
      "\n"
     ]
    },
    {
     "name": "stdout",
     "output_type": "stream",
     "text": [
      "package 'tidyr' successfully unpacked and MD5 sums checked\n",
      "package 'data.table' successfully unpacked and MD5 sums checked\n",
      "package 'plotly' successfully unpacked and MD5 sums checked\n",
      "\n",
      "The downloaded binary packages are in\n",
      "\tC:\\Users\\christian\\AppData\\Local\\Temp\\RtmpaY1B5e\\downloaded_packages\n"
     ]
    },
    {
     "name": "stderr",
     "output_type": "stream",
     "text": [
      "Installing package into 'C:/Users/christian/Documents/R/win-library/3.6'\n",
      "(as 'lib' is unspecified)\n"
     ]
    },
    {
     "name": "stdout",
     "output_type": "stream",
     "text": [
      "package 'EcoGenetics' successfully unpacked and MD5 sums checked\n",
      "\n",
      "The downloaded binary packages are in\n",
      "\tC:\\Users\\christian\\AppData\\Local\\Temp\\RtmpaY1B5e\\downloaded_packages\n"
     ]
    }
   ],
   "source": [
    "install.packages(\"rgdal\")\n",
    "install.packages(\"plotly\")\n",
    "install.packages(\"EcoGenetics\")"
   ]
  },
  {
   "cell_type": "markdown",
   "metadata": {},
   "source": [
    "Incorporamos las dependencias necesarias"
   ]
  },
  {
   "cell_type": "code",
   "execution_count": 4,
   "metadata": {},
   "outputs": [
    {
     "name": "stderr",
     "output_type": "stream",
     "text": [
      "mixtools package, version 1.1.0, Released 2017-03-10\n",
      "This package is based upon work supported by the National Science Foundation under Grant No. SES-0518772.\n",
      "\n",
      "\n",
      "Attaching package: 'baseline'\n",
      "\n",
      "The following object is masked from 'package:stats':\n",
      "\n",
      "    getCall\n",
      "\n",
      "Loading required package: magrittr\n",
      "\n",
      "Attaching package: 'imager'\n",
      "\n",
      "The following object is masked from 'package:magrittr':\n",
      "\n",
      "    add\n",
      "\n",
      "The following object is masked from 'package:mixtools':\n",
      "\n",
      "    depth\n",
      "\n",
      "The following objects are masked from 'package:stats':\n",
      "\n",
      "    convolve, spectrum\n",
      "\n",
      "The following object is masked from 'package:graphics':\n",
      "\n",
      "    frame\n",
      "\n",
      "The following object is masked from 'package:base':\n",
      "\n",
      "    save.image\n",
      "\n"
     ]
    }
   ],
   "source": [
    "library(mixtools)\n",
    "library(baseline)\n",
    "library(ggplot2)\n",
    "library(imager)\n",
    "library(Matrix)"
   ]
  },
  {
   "cell_type": "code",
   "execution_count": 5,
   "metadata": {},
   "outputs": [
    {
     "ename": "ERROR",
     "evalue": "Error: package or namespace load failed for 'EcoGenetics':\n .onLoad failed in loadNamespace() for 'vctrs', details:\n  call: env_bind_impl(.env, list3(...), \"env_bind()\", bind = TRUE)\n  error: objeto 'rlang_env_bind_list' no encontrado\n",
     "output_type": "error",
     "traceback": [
      "Error: package or namespace load failed for 'EcoGenetics':\n .onLoad failed in loadNamespace() for 'vctrs', details:\n  call: env_bind_impl(.env, list3(...), \"env_bind()\", bind = TRUE)\n  error: objeto 'rlang_env_bind_list' no encontrado\nTraceback:\n",
      "1. library(EcoGenetics)",
      "2. tryCatch({\n .     attr(package, \"LibPath\") <- which.lib.loc\n .     ns <- loadNamespace(package, lib.loc)\n .     env <- attachNamespace(ns, pos = pos, deps, exclude, include.only)\n . }, error = function(e) {\n .     P <- if (!is.null(cc <- conditionCall(e))) \n .         paste(\" in\", deparse(cc)[1L])\n .     else \"\"\n .     msg <- gettextf(\"package or namespace load failed for %s%s:\\n %s\", \n .         sQuote(package), P, conditionMessage(e))\n .     if (logical.return) \n .         message(paste(\"Error:\", msg), domain = NA)\n .     else stop(msg, call. = FALSE, domain = NA)\n . })",
      "3. tryCatchList(expr, classes, parentenv, handlers)",
      "4. tryCatchOne(expr, names, parentenv, handlers[[1L]])",
      "5. value[[3L]](cond)",
      "6. stop(msg, call. = FALSE, domain = NA)"
     ]
    }
   ],
   "source": [
    "library(EcoGenetics)"
   ]
  },
  {
   "cell_type": "markdown",
   "metadata": {},
   "source": [
    "El primer paso consiste en cargar la imagen en una variable. La representación de la imagen está en el espacio de color RGB."
   ]
  },
  {
   "cell_type": "code",
   "execution_count": null,
   "metadata": {},
   "outputs": [],
   "source": [
    "#Load and plot the RGB file\n",
    "#data.file <- '/mnt/usb-WD_Elements_25A2_575852314531383859503438-0:0-part1/CHB/PASANTIA/imagenes_forestal/data/DJI_0805.jpg'\n",
    "data.file <- '../imagenes_forestal/data/original_referencia.jpg'\n",
    "im <- load.image(data.file)"
   ]
  },
  {
   "cell_type": "markdown",
   "metadata": {},
   "source": [
    "A los efectos de procesar la porción central de la imagen y reducir así los efectos de distorsión de perspectiva por desvío de la línea vertical nadir-cenit, además de proporcionar una reducción del tamaño de la imagen, se realiza un recorte de la imagen en 300 x 300 píxeles.\n",
    "Una vez que la imagen se encuentra cargada en la variable, es posible imprimir el gráfico con la función <code>plot</code>"
   ]
  },
  {
   "cell_type": "code",
   "execution_count": null,
   "metadata": {},
   "outputs": [],
   "source": [
    "#im<-im[200:500,200:500,]\n",
    "plot(im)"
   ]
  },
  {
   "cell_type": "markdown",
   "metadata": {},
   "source": [
    "La imagen con la que se trabaja fue obtenida por medio de un dron que sobrevolaba la [reserva biósfera Yaboty](https://sib.gob.ar/area/MISIONES*YB*YABOTY), a una altitud aproximada de 600 metros. La resolución de la imagen original es de 12 Mpixels (4000 x 3000), pero fue reducida a una resolución de 1000 x 750 pixels para aliviar la carga de procesamiento."
   ]
  },
  {
   "cell_type": "markdown",
   "metadata": {},
   "source": [
    "Teniendo en cuenta los datos del vuelo, de la [cámara](https://www.dji.com/phantom-4/info) y del terreno, podemos hallar que la resolución espacial de la fotografía aérea es de 0,5 metro por pixel, aproximadamente (esto teniendo en cuenta que la imagen original fue reducida en su resolución original de 4000 x 3000 pixeles a 1000 x 750 pixeles)\n"
   ]
  },
  {
   "cell_type": "code",
   "execution_count": null,
   "metadata": {},
   "outputs": [],
   "source": [
    "#data.file <- '../Captura.png'\n",
    "#recorte <- load.image(data.file)\n",
    "#plot(recorte)"
   ]
  },
  {
   "cell_type": "code",
   "execution_count": null,
   "metadata": {},
   "outputs": [],
   "source": [
    "#data.file <- '../copa_referencia.png'\n",
    "#recorte <- load.image(data.file)\n",
    "#plot(recorte)"
   ]
  },
  {
   "cell_type": "markdown",
   "metadata": {},
   "source": [
    "Una observación en la imagen del recorte de la copa permite estimar el tamaño que abarca la copa en 80 píxeles. Este dato será usado en los parámetros de los filtro implementados."
   ]
  },
  {
   "cell_type": "markdown",
   "metadata": {},
   "source": [
    "Para procesar la imagen, debe ser convertida al espacio de color [HSL](https://es.wikipedia.org/wiki/Modelo_de_color_HSL), del cual se tomará la componente **L** de luminosidad."
   ]
  },
  {
   "cell_type": "code",
   "execution_count": null,
   "metadata": {},
   "outputs": [],
   "source": [
    "#GPerforms the conversion of the image from RGB to HSL colorspace\n",
    "im_hsl <- RGBtoHSL(im)"
   ]
  },
  {
   "cell_type": "code",
   "execution_count": null,
   "metadata": {},
   "outputs": [],
   "source": [
    "plot(im_hsl)"
   ]
  },
  {
   "cell_type": "markdown",
   "metadata": {},
   "source": [
    "El aspecto de la imagen visualizada en su componente L del espacio HSL es de escala de grises..."
   ]
  },
  {
   "cell_type": "code",
   "execution_count": null,
   "metadata": {},
   "outputs": [],
   "source": [
    "#prints the image L channel from the HSL colorspace. index 3 is L\n",
    "plot(channel(im_hsl, 3))"
   ]
  },
  {
   "cell_type": "markdown",
   "metadata": {},
   "source": [
    "Se extrae la componente L de la imagen HSL y se la almacena en una variable"
   ]
  },
  {
   "cell_type": "code",
   "execution_count": null,
   "metadata": {},
   "outputs": [],
   "source": [
    "#Extracts the L component from HSL colorspace image\n",
    "#im_L <- im_hsl[200:500,200:500,3]\n",
    "im_L <- im_hsl[,,3]"
   ]
  },
  {
   "cell_type": "code",
   "execution_count": null,
   "metadata": {},
   "outputs": [],
   "source": []
  },
  {
   "cell_type": "markdown",
   "metadata": {},
   "source": [
    "# Estimación de parámetros de distribución bimodal"
   ]
  },
  {
   "cell_type": "markdown",
   "metadata": {},
   "source": [
    "La función <code>normalmixEM()</code> devuelve una estimación de parámetros de la distribución de los datos de la componente L de la imagen, considerándola como una distribución normal bimodal..."
   ]
  },
  {
   "cell_type": "code",
   "execution_count": null,
   "metadata": {},
   "outputs": [],
   "source": [
    "#Estimation of bimodal distribution parameters\n",
    "param <- normalmixEM(as.vector(im_L))\n",
    "param$mu"
   ]
  },
  {
   "cell_type": "markdown",
   "metadata": {},
   "source": [
    "Desplegamos un histograma de los datos del canal L"
   ]
  },
  {
   "cell_type": "code",
   "execution_count": null,
   "metadata": {},
   "outputs": [],
   "source": [
    "hist(im_L)"
   ]
  },
  {
   "cell_type": "markdown",
   "metadata": {},
   "source": [
    "# Algoritmo Rolling ball"
   ]
  },
  {
   "cell_type": "markdown",
   "metadata": {},
   "source": [
    "Se aplica la función <code>baseline()</code> con el método <code>rollingBall</code> y se grafica el resultado. Los parámetros <code>wm</code> y <code>ws</code> corresponden al ancho de ventana local de minimización y maximización y de suavizado respectivamente."
   ]
  },
  {
   "cell_type": "code",
   "execution_count": null,
   "metadata": {},
   "outputs": [],
   "source": [
    "#Rolling ball algorithm\n",
    "\n",
    "#bc.rollingBall <- baseline(im_L, wm=80, ws=80, method='rollingBall')\n",
    "## Not run: \n",
    "#plot(bc.rollingBall)"
   ]
  },
  {
   "cell_type": "markdown",
   "metadata": {},
   "source": [
    "Para visualizar el efecto del filtro aplicado mediante el algoritmo RollingBall convertimos los datos corregidos al formato cimg mediante la función <code>as.cimg()</code> y graficamos."
   ]
  },
  {
   "cell_type": "code",
   "execution_count": null,
   "metadata": {},
   "outputs": [],
   "source": [
    "#corregido <- as.cimg(bc.rollingBall@corrected)\n",
    "#plot(corregido)"
   ]
  },
  {
   "cell_type": "markdown",
   "metadata": {},
   "source": [
    "# Operaciones matemáticas morfológicas"
   ]
  },
  {
   "cell_type": "markdown",
   "metadata": {},
   "source": [
    "Se utilizan los operadores matemáticos morfológicos de transformaciones top hat y bottom hat, para mejorarse el contraste, basándose en un elemento estructural."
   ]
  },
  {
   "cell_type": "markdown",
   "metadata": {},
   "source": [
    "**Top hat**: es la imagen original en grises menos el resultado de la apertura (*erosión* secundada por *dilación*)\n",
    "\n",
    "**Bottom hat**: es la imagen resultante de la cerradura (*dilación* secundada por *erosión*) menos la image original en grises\n",
    "Combinando ambos se obtiene el mejoramiento del contraste sumando a la imagen original el resultado de la transformación top hat y restando el resultado de la transformación bottom hat: *If=I+Ith-Ibh*"
   ]
  },
  {
   "cell_type": "code",
   "execution_count": null,
   "metadata": {},
   "outputs": [],
   "source": [
    "#Top hat y bottom hat\n",
    "#mask <- imfill(78,78,val=1)\n",
    "#top_hat <- as.cimg(im_L) - mopening(as.cimg(im_L),mask)\n",
    "#bottom_hat <-  mclosing(as.cimg(im_L),mask) - as.cimg(im_L)\n",
    "#im_filt <- as.cimg(im_L) + top_hat - bottom_hat\n",
    "#plot(im_filt)"
   ]
  },
  {
   "cell_type": "markdown",
   "metadata": {},
   "source": [
    "# 3. Primer identificación de objetos oscuros\n",
    "\n",
    "\n",
    "**ENTRADA**: escala de grises (canal L)\n",
    "\n",
    "**SALIDA**: sombras interarbóreas intensificadas\n",
    "\n",
    "Se lleva a cabo una primera identificación de objetos oscuros, definiéndolos como los que tienen un valor por debajo de la media en la distribución de grises en brechas (hallada mediante el algoritmo <code>normalmixEM</code>), y a éstos se los iguala a cero.\n"
   ]
  },
  {
   "cell_type": "code",
   "execution_count": null,
   "metadata": {},
   "outputs": [],
   "source": [
    "TI_abs <- proc.time()\n",
    "entrada3 <- im_L\n",
    "#values of image that are lower than mean are set to 0\n",
    "salida3 <- (entrada3>param$mu[1])*entrada3\n",
    "plot(as.cimg(salida3))\n",
    "hist(entrada3)\n",
    "hist(salida3)"
   ]
  },
  {
   "cell_type": "markdown",
   "metadata": {},
   "source": [
    "# 4. Relleno de sombras en grandes copas de árboles\n",
    "\n",
    "\n",
    "\n",
    "**ENTRADA**: escala de grises (canal L)\n",
    "\n",
    "**SALIDA**: imagen filtrada\n",
    "\n",
    "La imagen en escala de grises (canal L) se invierte y se le suma el máximo valor de la escala de grises. Esto es comparable con una imagen negativa. Se computan dos imágenes baseline mediante un filtro RollingBall con un radio de tres píxeles. Las imágenes obtenidas se vuelven a invertir, y los valores máximos de la escala de grises se usaron para obtener la imagen final suavizada.\n"
   ]
  },
  {
   "cell_type": "code",
   "execution_count": null,
   "metadata": {},
   "outputs": [],
   "source": [
    "entrada4 <- im_L\n",
    "#inversion of grayscale image and addition of maximum grayscale value\n",
    "im_L_inv <- entrada4*(-1)+max(entrada4)\n",
    "#both baselines bline1 and bline2 are computed considering one input as inverted image and the other input as transposed inverted image\n",
    "bline1 <- baseline(t(im_L_inv),wm=12, ws=12, method='rollingBall')\n",
    "bline2 <- baseline(im_L_inv,wm=12, ws=12, method='rollingBall')\n",
    "#smooth image\n",
    "im_smooth <- pmax(t(bline1@baseline)*(-1),(bline2@baseline)*(-1))\n",
    "plot(as.cimg(im_smooth))\n",
    "salida4 <- im_smooth\n",
    "hist(entrada4)\n",
    "hist(salida4)"
   ]
  },
  {
   "cell_type": "markdown",
   "metadata": {},
   "source": [
    "# 5. Identificar y rellenar huecos en grandes copas de árboles\n",
    "\n",
    "\n",
    "\n",
    "**ENTRADA**: \n",
    "\n",
    "**SALIDA**: \n",
    "\n",
    "\n",
    "Se identifican las copas con un diámetro mayor a 15 píxeles, que corresponde a 7,5 metros, mediante una transformación top hat. Para ello se utiliza un elemento estructurante circular con un diámetro de 15 píxeles. El resultado de esto es una máscara binaria que contiene solamente las copas de diámetro mayor a 15 píxeles. Los huecos son rellenados entonces con los valores de escala de grises obtenidos anteriormente."
   ]
  },
  {
   "cell_type": "code",
   "execution_count": null,
   "metadata": {},
   "outputs": [],
   "source": [
    "entrada5 <- salida3\n",
    "#Top hat\n",
    "#Structuring element consists in a circular shape of determined radius\n",
    "radio <- 14 #radius of 7 pixels, corresponding to crown diameter; con 14 se da un mejor resultado usando la imagen original de referencia\n",
    "mask <- px.circle(radio)\n",
    "\n",
    "abertura <- mopening(as.cimg(entrada5),mask,real_mode = FALSE)\n",
    "t_hat <- as.cimg(entrada5) - abertura\n",
    "abertura <- abertura>0\n",
    "plot(as.cimg(abertura))\n",
    "maskara <- abertura[,,1,1]\n",
    "salida5 <- (maskara*salida4)*(-2)\n",
    "\n",
    "plot(as.cimg(salida5))\n",
    "salida5 <- ((!maskara&entrada5)*entrada5+salida5)\n",
    "plot(as.cimg(salida5))\n",
    "hist(entrada5)\n",
    "hist(salida5)"
   ]
  },
  {
   "cell_type": "markdown",
   "metadata": {},
   "source": [
    "# 6. Segunda identificación de objetos oscuros¶\n",
    "\n",
    "**ENTRADA**: salida de la etapa 5\n",
    "\n",
    "**SALIDA**: imagen de copas sin sombra interna\n",
    "\n",
    "Bajo la asunción de que la mayoría de los píxeles sombreados de las copas fueron removidos, se lleva a cabo una identificación final de píxeles oscuros, los cuales son definidos como los píxeles de escala de grises que son menores al 99° percentil en la distribuciones en huecos, y se los iguala a cero."
   ]
  },
  {
   "cell_type": "code",
   "execution_count": null,
   "metadata": {},
   "outputs": [],
   "source": [
    "entrada6 <- salida5\n",
    "#a normal distribution (n_gaps) is generated, using the parameters that were found with normalmixEM (eg. the media and standard deviation)\n",
    "n_gaps <- rnorm(length(entrada6), mean = param$mu[1], sd = param$sigma[1])\n",
    "noventaynueve <- quantile(n_gaps,.99)\n",
    "salida6 <- (!(entrada6[,]<noventaynueve))*entrada6\n",
    "plot(as.cimg(salida6))\n",
    "noventaynueve\n",
    "hist(entrada6)\n",
    "hist(salida6)"
   ]
  },
  {
   "cell_type": "code",
   "execution_count": null,
   "metadata": {},
   "outputs": [],
   "source": []
  },
  {
   "cell_type": "markdown",
   "metadata": {},
   "source": [
    "# 7. Hallar pequeños huecos en grandes copas¶\n",
    "\n",
    "**ENTRADA**: escala de grises (im_L)\n",
    "\n",
    "**SALIDA**: imagen binaria\n",
    "\n",
    "Las copas grandes poseen píxeles sueltos de sombra que deben ser rellenados para luego calcular la distancia de los píxeles al borde (o sea los píxeles oscuros). Mediante una ventana de 7 x 7 píxeles se calcula la ocurrencia de valores distintos de cero entorno a cada píxel, los cuales poseen una distribución bimodal. Los huecos en las copas se definen como aquellos que están por encima del 75° percentil. Al final de esta etapa se identifican tres clases de píxel: los de sombra entre árboles, los no sombreados en las copas y los aislados de sombras en las copas. Con estas tres clases se compone una máscara binaria con 0 para píxeles fuera de copas y 1 para los interiores de copas.\n"
   ]
  },
  {
   "cell_type": "code",
   "execution_count": null,
   "metadata": {},
   "outputs": [],
   "source": [
    "entrada7 <- salida6\n",
    "ti <- proc.time()\n",
    "mat_riz<-cbind(0,0,0,entrada7,0,0,0) #se rellenan tres columnas con ceros por izquierda y por derecha\n",
    "mat_riz<-rbind(0,0,0,mat_riz,0,0,0) #se rellenan tres filas con ceros por arriba y por abajo\n",
    "MNZ <- entrada7*0 #MNZ es una matriz de la misma dimensión que mat_riz completa con ceros\n",
    "\n",
    "for (i in 3:dim(entrada7)[1]+2) { #i es el índice que recorre las columnas\n",
    "   for (j in 3:dim(entrada7)[2]+2) { #j es el índice que recorre las filas\n",
    "       a <- i-2\n",
    "       b <- i+4\n",
    "       c <- j-2\n",
    "       d <- j+4\n",
    "       ventana <- mat_riz[a:b,c:d]\n",
    "       MNZ[i-2,j-2] <- nnzero(ventana)\n",
    "   }\n",
    "   \n",
    " }\n",
    "(delta <- proc.time()-ti)"
   ]
  },
  {
   "cell_type": "markdown",
   "metadata": {},
   "source": [
    "En el artículo de referencia se toma un valor de cuantil del 75%; se ha probado con un valor que se acerca al 94% percentil, ya que ahí el resultado es una matriz nula (todo negro)"
   ]
  },
  {
   "cell_type": "code",
   "execution_count": null,
   "metadata": {},
   "outputs": [],
   "source": [
    "(setentaycinco <- quantile(entrada7,.75))\n",
    "hist(MNZ)\n",
    "hist(entrada7)\n",
    "huecos_copas <- (MNZ>setentaycinco)*entrada7\n",
    "salida7 <- huecos_copas\n",
    "hist(salida7)\n",
    "plot(as.cimg(huecos_copas))\n",
    "plot(as.cimg(MNZ>setentaycinco))\n",
    "plot(as.cimg(MNZ))\n",
    "\n",
    "proc.time()-TI_abs"
   ]
  },
  {
   "cell_type": "markdown",
   "metadata": {},
   "source": [
    "# 8. Homogenización de valores de escala de grises en grandes copas\n",
    "\n",
    "**ENTRADA**: escala de grises (canal L)\n",
    "\n",
    "**SALIDA**: imagen binaria\n",
    "\n",
    "Para homogenizar los valores en grises en grandes copas, se calcula la distancia mínima entre valores distinto de cero y el valor de cero de la máscara precedente. Todos los píxeles con distancia mayor a 7 se identifican como grandes árboles, y se rellenan con el valor de la media de los cuatro valores mayores dentro de una ventana de 7 x 7 píxeles.\n",
    "\n"
   ]
  },
  {
   "cell_type": "code",
   "execution_count": null,
   "metadata": {},
   "outputs": [],
   "source": []
  },
  {
   "cell_type": "markdown",
   "metadata": {},
   "source": [
    "# 9. Extracción de copas antes de la segmentación\n",
    "\n",
    "**ENTRADA**: escala de grises (canal L)\n",
    "\n",
    "**SALIDA**: imagen binaria\n",
    "\n",
    "Las copas con diámetro mayor a 3 metros se extraen mediante un filtro top bottom hat con elemento estructural cuadrado de 6 x 6 píxeles. A partir de esa imagen transformada, se aplica un umbral mayor a 0,001° percentil del filtro.\n",
    "\n"
   ]
  },
  {
   "cell_type": "markdown",
   "metadata": {},
   "source": [
    "# 10. Delineación de copas individuales\n",
    "\n",
    "**ENTRADA**: escala de grises (canal L)\n",
    "\n",
    "**SALIDA**: imagen binaria\n",
    "\n",
    "Se calcula la distancia entre valores cero y distinto de cero, es decir la distancia del píxel en la copa al borde. Procesando de manera separada por copas o grupos de copas, calculando las distancias de píxeles a los bordes. Luego se calcula el máximo local en una ventana cuadrada de la máxima distancia al borde del segmento. Para cada máximo local se genera una imagen mediante la dilatación entorno a su locación, con un tamaño que duplique el diámetro."
   ]
  },
  {
   "cell_type": "markdown",
   "metadata": {},
   "source": [
    "# Conclusiones"
   ]
  },
  {
   "cell_type": "markdown",
   "metadata": {},
   "source": []
  }
 ],
 "metadata": {
  "celltoolbar": "Edit Metadata",
  "kernelspec": {
   "display_name": "R",
   "language": "R",
   "name": "ir"
  },
  "language_info": {
   "codemirror_mode": "r",
   "file_extension": ".r",
   "mimetype": "text/x-r-source",
   "name": "R",
   "pygments_lexer": "r",
   "version": "3.6.1"
  }
 },
 "nbformat": 4,
 "nbformat_minor": 2
}
